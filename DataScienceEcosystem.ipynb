{
 "cells": [
  {
   "cell_type": "markdown",
   "id": "97a1968d-e8c3-4fd7-8531-cd73fea65240",
   "metadata": {},
   "source": [
    "# Data Science Tools and Ecosystem"
   ]
  },
  {
   "cell_type": "markdown",
   "id": "c5219fb6-7085-4a9a-bf8d-3580bb14e834",
   "metadata": {},
   "source": [
    "__Objectives:__\n",
    "- List popular languages for Data Science\n",
    "- List libraries for Data Science\n",
    "- List open-source development tools\n",
    "- Python arithmetic expression examples"
   ]
  },
  {
   "cell_type": "markdown",
   "id": "a748d62b-f798-44fc-ac6a-a685855afea3",
   "metadata": {},
   "source": [
    "## Author\n",
    "Josh M."
   ]
  },
  {
   "cell_type": "markdown",
   "id": "6cc1b09d-17e0-4f05-9fb1-41bea0e5d720",
   "metadata": {},
   "source": [
    "Some of the popular languages that Data Scientists use are:\n",
    "1. R\n",
    "1. Python\n",
    "1. SQL\n",
    "1. C++\n",
    "1. Java"
   ]
  },
  {
   "cell_type": "markdown",
   "id": "98e464be-d9e5-4384-9a71-fbf569803f68",
   "metadata": {},
   "source": [
    "Some of the commonly used libraries used by Data Scientists include:\n",
    "1. Pandas\n",
    "2. NumPy\n",
    "3. Matplotlib\n",
    "4. TensorFlow\n",
    "5. Keras"
   ]
  },
  {
   "cell_type": "markdown",
   "id": "c8c2c297-9f9f-4341-a345-a8052b36fdaa",
   "metadata": {},
   "source": [
    "|Data Science Tools|\n",
    "|:----------------|\n",
    "|JupyterLab|\n",
    "|RStudio|\n",
    "|Spyder|\n"
   ]
  },
  {
   "cell_type": "markdown",
   "id": "61d20dd4-f349-4b59-a579-961a043f7bf7",
   "metadata": {},
   "source": [
    "### Below are a few examples of evaluating arithmetic expressions in Python"
   ]
  },
  {
   "cell_type": "code",
   "execution_count": 3,
   "id": "1d669896-4d68-42bc-adae-cbd116df66e8",
   "metadata": {},
   "outputs": [
    {
     "data": {
      "text/plain": [
       "17"
      ]
     },
     "execution_count": 3,
     "metadata": {},
     "output_type": "execute_result"
    }
   ],
   "source": [
    "#The following expression will multiply and add integers\n",
    "(3*4)+5"
   ]
  },
  {
   "cell_type": "code",
   "execution_count": 4,
   "id": "c5e77162-6f89-4831-b74b-f493c61dc08f",
   "metadata": {},
   "outputs": [
    {
     "data": {
      "text/plain": [
       "3.3333333333333335"
      ]
     },
     "execution_count": 4,
     "metadata": {},
     "output_type": "execute_result"
    }
   ],
   "source": [
    "#The following expression will convert 200 minutes to hours by dividing by 60(minutes)\n",
    "200/60"
   ]
  }
 ],
 "metadata": {
  "kernelspec": {
   "display_name": "Python 3 (ipykernel)",
   "language": "python",
   "name": "python3"
  },
  "language_info": {
   "codemirror_mode": {
    "name": "ipython",
    "version": 3
   },
   "file_extension": ".py",
   "mimetype": "text/x-python",
   "name": "python",
   "nbconvert_exporter": "python",
   "pygments_lexer": "ipython3",
   "version": "3.11.8"
  }
 },
 "nbformat": 4,
 "nbformat_minor": 5
}
